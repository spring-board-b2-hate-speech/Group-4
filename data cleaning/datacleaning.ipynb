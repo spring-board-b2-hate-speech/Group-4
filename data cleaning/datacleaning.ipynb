{
 "cells": [
  {
   "cell_type": "code",
   "execution_count": null,
   "metadata": {},
   "outputs": [],
   "source": [
    "import numpy as np\n",
    "\n",
    "# Remove rows with missing values from the DataFrame\n",
    "cleaned_data = train_data.dropna()\n",
    "\n",
    "# Separate features and target variable\n",
    "features = cleaned_data['text']\n",
    "target = cleaned_data['label']\n",
    "\n",
    "# Print the shape of the features and target arrays\n",
    "print(\"Shape of features (X):\", features.shape)\n",
    "print(\"Shape of target (y):\", target.shape)\n"
   ]
  },
  {
   "cell_type": "code",
   "execution_count": null,
   "metadata": {},
   "outputs": [],
   "source": [
    "from sklearn.model_selection import train_test_split\n",
    "\n",
    "# Split the data into training and testing sets\n",
    "training_features, testing_features, training_labels, testing_labels = train_test_split(\n",
    "    features, target, test_size=0.2, random_state=42, stratify=target\n",
    ")\n",
    "\n",
    "# Print the shapes of the resulting datasets\n",
    "print(\"Training features shape:\", training_features.shape)\n",
    "print(\"Testing features shape:\", testing_features.shape)\n",
    "print(\"Training labels shape:\", training_labels.shape)\n",
    "print(\"Testing labels shape:\", testing_labels.shape)\n"
   ]
  },
  {
   "cell_type": "code",
   "execution_count": null,
   "metadata": {},
   "outputs": [],
   "source": [
    "from sklearn.model_selection import train_test_split\n",
    "from sklearn.feature_extraction.text import TfidfVectorizer\n",
    "\n",
    "# Initialize the TF-IDF Vectorizer with specified parameters\n",
    "tfidf_vectorizer = TfidfVectorizer(max_features=10000, ngram_range=(1, 2))\n",
    "\n",
    "# Fit and transform the training data\n",
    "X_train_tfidf_matrix = tfidf_vectorizer.fit_transform(training_features)\n",
    "\n",
    "# Transform the test data based on the fitted TF-IDF vectorizer\n",
    "X_test_tfidf_matrix = tfidf_vectorizer.transform(testing_features)\n",
    "\n",
    "# Print shapes of TF-IDF matrices for training and testing sets\n",
    "print(\"Shape of training TF-IDF matrix:\", X_train_tfidf_matrix.shape)\n",
    "print(\"Shape of testing TF-IDF matrix:\", X_test_tfidf_matrix.shape)\n"
   ]
  },
  {
   "cell_type": "code",
   "execution_count": null,
   "metadata": {},
   "outputs": [],
   "source": [
    "from imblearn.over_sampling import SMOTE\n",
    "\n",
    "# Initialize SMOTE for handling class imbalance\n",
    "smote_resampler = SMOTE(random_state=42)\n",
    "\n",
    "# Apply SMOTE to the training data to generate synthetic samples\n",
    "X_resampled_features, y_resampled_labels = smote_resampler.fit_resample(X_train_tfidf_matrix, training_labels)\n",
    "\n",
    "# Display the distribution of the resampled labels\n",
    "print(\"Resampled label distribution:\\n\", pd.Series(y_resampled_labels).value_counts())\n"
   ]
  },
  {
   "cell_type": "code",
   "execution_count": null,
   "metadata": {},
   "outputs": [],
   "source": [
    "from sklearn.linear_model import LogisticRegression\n",
    "\n",
    "# Initialize the Logistic Regression model\n",
    "logistic_regression_model = LogisticRegression()\n",
    "\n",
    "# Train the model using the resampled training data\n",
    "logistic_regression_model.fit(X_resampled_features, y_resampled_labels)\n",
    "\n",
    "# Optional: Print a message confirming that the model has been trained\n",
    "print(\"Logistic Regression model has been trained successfully.\")\n"
   ]
  },
  {
   "cell_type": "markdown",
   "metadata": {},
   "source": [
    "For logistic Regression"
   ]
  },
  {
   "cell_type": "code",
   "execution_count": null,
   "metadata": {},
   "outputs": [],
   "source": [
    "from sklearn.ensemble import RandomForestClassifier\n",
    "\n",
    "# Create an instance of the RandomForestClassifier\n",
    "random_forest_clf = RandomForestClassifier(random_state=42)\n",
    "\n",
    "# Optional: Print a message indicating the Random Forest model has been initialized\n",
    "print(\"Random Forest Classifier has been initialized.\")\n"
   ]
  },
  {
   "cell_type": "code",
   "execution_count": null,
   "metadata": {},
   "outputs": [],
   "source": [
    "from sklearn.ensemble import RandomForestClassifier\n",
    "\n",
    "# Initialize the Random Forest Classifier with a fixed random seed\n",
    "rf_classifier = RandomForestClassifier(random_state=42)\n",
    "\n",
    "# Train the Random Forest model using the resampled data\n",
    "rf_classifier.fit(X_resampled_features, y_resampled_labels)\n",
    "\n",
    "# Optional: Print a message confirming that the Random Forest model has been trained\n",
    "print(\"Random Forest Classifier has been trained successfully.\")\n"
   ]
  },
  {
   "cell_type": "code",
   "execution_count": null,
   "metadata": {},
   "outputs": [],
   "source": [
    "from sklearn.ensemble import RandomForestClassifier\n",
    "\n",
    "# Create an instance of the RandomForestClassifier with a fixed random seed for reproducibility\n",
    "forest_classifier = RandomForestClassifier(random_state=42)\n",
    "\n",
    "# Optional: Print a message confirming the classifier initialization\n",
    "print(\"RandomForestClassifier instance has been created.\")\n"
   ]
  },
  {
   "cell_type": "code",
   "execution_count": null,
   "metadata": {},
   "outputs": [],
   "source": [
    "# Evaluate the model's performance on the test set\n",
    "test_accuracy = rf_classifier.score(X_test_tfidf_matrix, testing_labels)\n",
    "\n",
    "# Print the accuracy of the Random Forest Classifier on the test data\n",
    "print(f\"Accuracy of the Random Forest Classifier on the test set: {test_accuracy:.4f}\")\n"
   ]
  },
  {
   "cell_type": "code",
   "execution_count": null,
   "metadata": {},
   "outputs": [],
   "source": [
    "from sklearn.metrics import confusion_matrix, classification_report\n",
    "\n",
    "# Make predictions using the trained Random Forest model\n",
    "predicted_labels = rf_classifier.predict(X_test_tfidf_matrix)\n",
    "\n",
    "# Compute and print the confusion matrix\n",
    "conf_matrix = confusion_matrix(testing_labels, predicted_labels)\n",
    "print(\"Confusion Matrix:\\n\", conf_matrix)\n",
    "\n",
    "# Generate and print the classification report\n",
    "class_report = classification_report(testing_labels, predicted_labels)\n",
    "print(\"Classification Report:\\n\", class_report)\n"
   ]
  },
  {
   "cell_type": "code",
   "execution_count": null,
   "metadata": {},
   "outputs": [],
   "source": [
    "from sklearn.metrics import classification_report\n",
    "\n",
    "# Generate predictions on the test set using the trained Random Forest model\n",
    "predicted_labels = rf_classifier.predict(X_test_tfidf_matrix)\n",
    "\n",
    "# Create a classification report for the predictions\n",
    "classification_summary = classification_report(testing_labels, predicted_labels)\n",
    "\n",
    "# Print the classification report\n",
    "print(\"Classification Report:\\n\", classification_summary)\n"
   ]
  },
  {
   "cell_type": "code",
   "execution_count": null,
   "metadata": {},
   "outputs": [],
   "source": [
    "param_grid = {\n",
    "    'n_estimators': [100, 150,200,300,350,400], \n",
    "    'max_features': [1,2,'sqrt', 'log2', None], \n",
    "    'max_depth': [4, 6, 10,15,20], \n",
    "    'max_leaf_nodes': [2, 4, 6,12,20]\n",
    "    "
   ]
  },
  {
   "cell_type": "code",
   "execution_count": null,
   "metadata": {},
   "outputs": [],
   "source": [
    "from sklearn.model_selection import GridSearchCV\n",
    "\n",
    "# Define the parameter grid for GridSearchCV\n",
    "param_grid = {\n",
    "    'n_estimators': [100, 200, 300],\n",
    "    'max_depth': [None, 10, 20, 30],\n",
    "    'min_samples_split': [2, 5, 10],\n",
    "    'min_samples_leaf': [1, 2, 4]\n",
    "}\n",
    "\n",
    "# Initialize GridSearchCV with the Random Forest Classifier and parameter grid\n",
    "grid_search = GridSearchCV(estimator=rf_classifier, \n",
    "                           param_grid=param_grid, \n",
    "                           cv=5, \n",
    "                           verbose=2, \n",
    "                           n_jobs=-1)\n",
    "\n",
    "# Optionally, fit GridSearchCV to the training data\n",
    "grid_search.fit(X_resampled_features, y_resampled_labels)\n",
    "\n",
    "# Print the best parameters found by GridSearchCV\n",
    "print(\"Best parameters found:\\n\", grid_search.best_params_)\n"
   ]
  },
  {
   "cell_type": "code",
   "execution_count": null,
   "metadata": {},
   "outputs": [],
   "source": [
    "from sklearn.metrics import classification_report, confusion_matrix\n",
    "\n",
    "# Make predictions on the test set using the best model from GridSearchCV\n",
    "predicted_labels_best = grid_search.predict(X_test_tfidf_matrix)\n",
    "\n",
    "# Generate and print the classification report\n",
    "report_summary = classification_report(testing_labels, predicted_labels_best)\n",
    "print(\"Classification Report:\\n\", report_summary)\n",
    "\n",
    "# Compute and print the confusion matrix\n",
    "confusion_mat = confusion_matrix(testing_labels, predicted_labels_best)\n",
    "print(\"Confusion Matrix:\\n\", confusion_mat)\n"
   ]
  }
 ],
 "metadata": {
  "language_info": {
   "name": "python"
  }
 },
 "nbformat": 4,
 "nbformat_minor": 2
}
