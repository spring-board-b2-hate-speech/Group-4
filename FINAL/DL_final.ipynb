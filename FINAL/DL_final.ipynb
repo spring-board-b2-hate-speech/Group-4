{
 "cells": [
  {
   "cell_type": "markdown",
   "metadata": {},
   "source": [
    "DL MODEL"
   ]
  },
  {
   "cell_type": "code",
   "execution_count": null,
   "metadata": {},
   "outputs": [],
   "source": [
    "!wget http://nlp.stanford.edu/data/glove.6B.zip"
   ]
  },
  {
   "cell_type": "code",
   "execution_count": null,
   "metadata": {},
   "outputs": [],
   "source": [
    "!unzip glove.6B.zip"
   ]
  },
  {
   "cell_type": "code",
   "execution_count": 2,
   "metadata": {},
   "outputs": [
    {
     "name": "stdout",
     "output_type": "stream",
     "text": [
      " Volume in drive C is OS\n",
      " Volume Serial Number is 409B-89BD\n",
      "\n",
      " Directory of C:\\Users\\ry981\n",
      "\n",
      "15-07-2024  11:12    <DIR>          .\n",
      "27-04-2024  20:13    <DIR>          ..\n",
      "02-07-2024  16:35    <DIR>          .anaconda\n",
      "21-06-2024  10:36    <DIR>          .cache\n",
      "15-07-2024  17:49    <DIR>          .conda\n",
      "14-06-2024  09:09                25 .condarc\n",
      "14-06-2024  09:08    <DIR>          .continuum\n",
      "07-06-2024  19:17               179 .gitconfig\n",
      "14-07-2024  20:50    <DIR>          .ipynb_checkpoints\n",
      "14-06-2024  09:11    <DIR>          .ipython\n",
      "14-06-2024  20:39    <DIR>          .jupyter\n",
      "21-06-2024  10:10    <DIR>          .keras\n",
      "15-06-2024  15:09    <DIR>          .matplotlib\n",
      "21-06-2024  10:06    <DIR>          .virtual_documents\n",
      "20-11-2023  14:25    <DIR>          .vscode\n",
      "16-02-2024  18:28             7,145 -1.14-windows.xml\n",
      "18-11-2023  18:20    <DIR>          ansel\n",
      "25-02-2024  21:15            67,077 battery-report.html\n",
      "18-11-2023  17:00    <DIR>          Contacts\n",
      "18-11-2023  17:02    <DIR>          Documents\n",
      "18-11-2023  17:00    <DIR>          Favorites\n",
      "14-07-2024  20:50            68,245 FINAL.ipynb\n",
      "14-07-2024  21:44            59,649 FINAL1.ipynb\n",
      "14-07-2024  20:34       347,116,733 glove.6B.100d.txt\n",
      "14-07-2024  20:34       693,432,828 glove.6B.200d.txt\n",
      "14-07-2024  20:34     1,037,962,819 glove.6B.300d.txt\n",
      "14-07-2024  20:34       171,350,079 glove.6B.50d.txt\n",
      "14-07-2024  20:34       862,182,613 glove.6B.zip\n",
      "08-06-2024  14:53                80 helloworld.c\n",
      "15-06-2024  15:57           603,722 Image_Captioning(Medical_images)data_preprocessing.ipynb\n",
      "14-07-2024  20:28         1,080,967 Image_Captioning_On_Medical_Images(Final_Evaluation).ipynb\n",
      "21-06-2024  11:05    <DIR>          image-captioning-output\n",
      "18-11-2023  17:00    <DIR>          Links\n",
      "13-07-2024  21:54           754,595 Medical_Image_Captioning(Final).ipynb\n",
      "04-07-2024  20:31           688,071 Medical_images_model_training.ipynb\n",
      "21-06-2024  17:00    <DIR>          models\n",
      "18-11-2023  17:00    <DIR>          Music\n",
      "13-07-2024  18:58    <DIR>          OneDrive\n",
      "18-11-2023  17:00    <DIR>          Saved Games\n",
      "18-11-2023  18:14    <DIR>          Searches\n",
      "21-06-2024  11:17            60,814 Untitled.ipynb\n",
      "02-07-2024  16:35                72 Untitled1.ipynb\n",
      "13-07-2024  16:20           638,068 Untitled2.ipynb\n",
      "15-07-2024  14:28    <DIR>          Videos\n",
      "21-06-2024  10:59    <DIR>          vit-gpt-model\n",
      "              19 File(s)  3,116,073,781 bytes\n",
      "              26 Dir(s)   2,263,117,824 bytes free\n"
     ]
    }
   ],
   "source": [
    "%ls"
   ]
  },
  {
   "cell_type": "code",
   "execution_count": 4,
   "metadata": {},
   "outputs": [
    {
     "name": "stderr",
     "output_type": "stream",
     "text": [
      "C:\\Users\\ry981\\AppData\\Local\\Temp\\ipykernel_29536\\2477500379.py:4: DeprecationWarning: Call to deprecated `glove2word2vec` (KeyedVectors.load_word2vec_format(.., binary=False, no_header=True) loads GLoVE text vectors.).\n",
      "  glove2word2vec(glove_input_file,word2vec_output_file)\n"
     ]
    },
    {
     "data": {
      "text/plain": [
       "(400000, 200)"
      ]
     },
     "execution_count": 4,
     "metadata": {},
     "output_type": "execute_result"
    }
   ],
   "source": [
    "from gensim.scripts.glove2word2vec import glove2word2vec\n",
    "glove_input_file=r\"C:\\Users\\ry981\\glove.6B.200d.txt\"\n",
    "word2vec_output_file=r\"D:\\word2vec.txt.txt\"\n",
    "glove2word2vec(glove_input_file,word2vec_output_file)"
   ]
  },
  {
   "cell_type": "code",
   "execution_count": 6,
   "metadata": {},
   "outputs": [],
   "source": [
    "from gensim.models import KeyedVectors\n",
    "model= KeyedVectors.load_word2vec_format(word2vec_output_file)"
   ]
  },
  {
   "cell_type": "code",
   "execution_count": 8,
   "metadata": {
    "id": "PYoc5D-7HKAU"
   },
   "outputs": [],
   "source": [
    "import numpy as np\n",
    "import pandas as pd\n",
    "from sklearn.model_selection import train_test_split\n",
    "from sklearn.preprocessing import LabelEncoder\n",
    "from tensorflow.keras.preprocessing.text import Tokenizer\n",
    "from tensorflow.keras.preprocessing.sequence import pad_sequences\n",
    "from tensorflow.keras.models import Sequential\n",
    "\n",
    "# Load the dataset\n",
    "data = pd.read_csv(r\"D:\\dataset.csv\")\n",
    "\n",
    "# Preprocess the data\n",
    "texts = data['Text'].values\n",
    "labels = data['Label'].values\n",
    "\n",
    "# Encode labels\n",
    "label_encoder = LabelEncoder()\n",
    "labels = label_encoder.fit_transform(labels)\n",
    "\n",
    "# Tokenize the text\n",
    "tokenizer = Tokenizer(num_words=15000)\n",
    "tokenizer.fit_on_texts(texts)\n",
    "X = tokenizer.texts_to_sequences(texts)\n",
    "X = pad_sequences(X, maxlen=200)\n",
    "\n",
    "# Split the data\n",
    "X_train, X_test, y_train, y_test = train_test_split(X, labels, test_size=0.2, random_state=42)"
   ]
  },
  {
   "cell_type": "code",
   "execution_count": 10,
   "metadata": {
    "id": "rG3ci93UHLBD"
   },
   "outputs": [],
   "source": [
    "def glove_embeddings(filepath, word_index, embedding_dim):\n",
    "    embeddings_index = {}\n",
    "    with open(filepath, 'r', encoding='utf8') as f:\n",
    "        for line in f:\n",
    "            values = line.split()\n",
    "            word = values[0]\n",
    "            coefs = np.asarray(values[1:], dtype='float32')\n",
    "            embeddings_index[word] = coefs\n",
    "\n",
    "    embedding_matrix = np.zeros((len(word_index) + 1, embedding_dim))\n",
    "    for word, i in word_index.items():\n",
    "        embedding_vector = embeddings_index.get(word)\n",
    "        if embedding_vector is not None:\n",
    "            embedding_matrix[i] = embedding_vector\n",
    "    return embedding_matrix\n",
    "\n",
    "embedding_dim = 200\n",
    "glove_filepath =r\"C:\\Users\\ry981\\glove.6B.200d.txt\"\n",
    "embedding_matrix = glove_embeddings(glove_filepath, tokenizer.word_index, embedding_dim)"
   ]
  },
  {
   "cell_type": "code",
   "execution_count": 12,
   "metadata": {
    "colab": {
     "base_uri": "https://localhost:8080/"
    },
    "id": "9ijReVTYHOSz",
    "outputId": "f06e3d9f-055f-4b50-a898-260da5cd36bc"
   },
   "outputs": [
    {
     "name": "stdout",
     "output_type": "stream",
     "text": [
      "Epoch 1/10\n"
     ]
    },
    {
     "name": "stderr",
     "output_type": "stream",
     "text": [
      "D:\\Anaconda\\Lib\\site-packages\\keras\\src\\layers\\core\\embedding.py:90: UserWarning: Argument `input_length` is deprecated. Just remove it.\n",
      "  warnings.warn(\n"
     ]
    },
    {
     "name": "stdout",
     "output_type": "stream",
     "text": [
      "\u001b[1m220/220\u001b[0m \u001b[32m━━━━━━━━━━━━━━━━━━━━\u001b[0m\u001b[37m\u001b[0m \u001b[1m197s\u001b[0m 850ms/step - accuracy: 0.5942 - loss: 0.6753\n",
      "Epoch 2/10\n",
      "\u001b[1m220/220\u001b[0m \u001b[32m━━━━━━━━━━━━━━━━━━━━\u001b[0m\u001b[37m\u001b[0m \u001b[1m187s\u001b[0m 852ms/step - accuracy: 0.7300 - loss: 0.5235\n",
      "Epoch 3/10\n",
      "\u001b[1m220/220\u001b[0m \u001b[32m━━━━━━━━━━━━━━━━━━━━\u001b[0m\u001b[37m\u001b[0m \u001b[1m206s\u001b[0m 937ms/step - accuracy: 0.7894 - loss: 0.4280\n",
      "Epoch 4/10\n",
      "\u001b[1m220/220\u001b[0m \u001b[32m━━━━━━━━━━━━━━━━━━━━\u001b[0m\u001b[37m\u001b[0m \u001b[1m211s\u001b[0m 960ms/step - accuracy: 0.8439 - loss: 0.3405\n",
      "Epoch 5/10\n",
      "\u001b[1m220/220\u001b[0m \u001b[32m━━━━━━━━━━━━━━━━━━━━\u001b[0m\u001b[37m\u001b[0m \u001b[1m210s\u001b[0m 952ms/step - accuracy: 0.8957 - loss: 0.2458\n",
      "Epoch 6/10\n",
      "\u001b[1m220/220\u001b[0m \u001b[32m━━━━━━━━━━━━━━━━━━━━\u001b[0m\u001b[37m\u001b[0m \u001b[1m213s\u001b[0m 966ms/step - accuracy: 0.9331 - loss: 0.1781\n",
      "Epoch 7/10\n",
      "\u001b[1m220/220\u001b[0m \u001b[32m━━━━━━━━━━━━━━━━━━━━\u001b[0m\u001b[37m\u001b[0m \u001b[1m214s\u001b[0m 971ms/step - accuracy: 0.9488 - loss: 0.1356\n",
      "Epoch 8/10\n",
      "\u001b[1m220/220\u001b[0m \u001b[32m━━━━━━━━━━━━━━━━━━━━\u001b[0m\u001b[37m\u001b[0m \u001b[1m218s\u001b[0m 989ms/step - accuracy: 0.9663 - loss: 0.0992\n",
      "Epoch 9/10\n",
      "\u001b[1m220/220\u001b[0m \u001b[32m━━━━━━━━━━━━━━━━━━━━\u001b[0m\u001b[37m\u001b[0m \u001b[1m224s\u001b[0m 1s/step - accuracy: 0.9713 - loss: 0.0796\n",
      "Epoch 10/10\n",
      "\u001b[1m220/220\u001b[0m \u001b[32m━━━━━━━━━━━━━━━━━━━━\u001b[0m\u001b[37m\u001b[0m \u001b[1m222s\u001b[0m 1s/step - accuracy: 0.9790 - loss: 0.0665\n"
     ]
    },
    {
     "data": {
      "text/plain": [
       "<keras.src.callbacks.history.History at 0x1afbd7bb9d0>"
      ]
     },
     "execution_count": 12,
     "metadata": {},
     "output_type": "execute_result"
    }
   ],
   "source": [
    "from tensorflow.keras.layers import Bidirectional\n",
    "from tensorflow.keras.layers import LSTM\n",
    "from tensorflow.keras.models import Sequential\n",
    "from tensorflow.keras.callbacks import EarlyStopping\n",
    "from tensorflow.keras.layers import Input, Embedding, LSTM, Dense, Dropout, Activation\n",
    "# Build the model\n",
    "model = Sequential()\n",
    "model.add(Embedding(input_dim=len(tokenizer.word_index) + 1, output_dim=embedding_dim, weights=[embedding_matrix], input_length=200))\n",
    "model.add(Bidirectional(LSTM(128, return_sequences=True)))\n",
    "model.add(Bidirectional(LSTM(64)))\n",
    "model.add(Dropout(0.3))\n",
    "model.add(Dense(256,activation='relu'))\n",
    "\n",
    "model.add(Dropout(0.4))\n",
    "model.add(Dense(256,activation='sigmoid'))\n",
    "model.add(Dropout(0.2))\n",
    "model.add(Dense(32,activation='relu'))\n",
    "model.add(Dense(1, activation='sigmoid'))\n",
    "\n",
    "# Compile the model\n",
    "model.compile(optimizer='adam', loss='binary_crossentropy', metrics=['accuracy'])\n",
    "\n",
    "early_stopping = EarlyStopping(monitor='loss', patience=3, restore_best_weights=True)\n",
    "# Train the model\n",
    "model.fit(X_train, y_train, epochs=10, batch_size=64,callbacks=[early_stopping])"
   ]
  },
  {
   "cell_type": "code",
   "execution_count": 14,
   "metadata": {
    "colab": {
     "base_uri": "https://localhost:8080/"
    },
    "id": "kF5vMaj8msre",
    "outputId": "6ab63a62-c242-46b3-afcf-824fbfdf8d95"
   },
   "outputs": [
    {
     "name": "stdout",
     "output_type": "stream",
     "text": [
      "\u001b[1m110/110\u001b[0m \u001b[32m━━━━━━━━━━━━━━━━━━━━\u001b[0m\u001b[37m\u001b[0m \u001b[1m11s\u001b[0m 95ms/step\n",
      "              precision    recall  f1-score   support\n",
      "\n",
      "           0       0.74      0.73      0.74      2094\n",
      "           1       0.61      0.62      0.62      1426\n",
      "\n",
      "    accuracy                           0.69      3520\n",
      "   macro avg       0.68      0.68      0.68      3520\n",
      "weighted avg       0.69      0.69      0.69      3520\n",
      "\n"
     ]
    }
   ],
   "source": [
    "from sklearn.metrics import classification_report\n",
    "y_pred_prob = model.predict(X_test)\n",
    "y_pred = (y_pred_prob > 0.5).astype(\"int32\")\n",
    "y_pred = y_pred.flatten()\n",
    "print(classification_report(y_test,y_pred))"
   ]
  },
  {
   "cell_type": "code",
   "execution_count": 16,
   "metadata": {},
   "outputs": [
    {
     "name": "stdout",
     "output_type": "stream",
     "text": [
      "INFO:tensorflow:Assets written to: best_model.pth\\assets\n"
     ]
    },
    {
     "name": "stderr",
     "output_type": "stream",
     "text": [
      "INFO:tensorflow:Assets written to: best_model.pth\\assets\n"
     ]
    },
    {
     "name": "stdout",
     "output_type": "stream",
     "text": [
      "Saved artifact at 'best_model.pth'. The following endpoints are available:\n",
      "\n",
      "* Endpoint 'serve'\n",
      "  args_0 (POSITIONAL_ONLY): TensorSpec(shape=(None, 200), dtype=tf.float32, name='keras_tensor')\n",
      "Output Type:\n",
      "  TensorSpec(shape=(None, 1), dtype=tf.float32, name=None)\n",
      "Captures:\n",
      "  1854321968048: TensorSpec(shape=(), dtype=tf.resource, name=None)\n",
      "  1854321977200: TensorSpec(shape=(), dtype=tf.resource, name=None)\n",
      "  1854321977552: TensorSpec(shape=(), dtype=tf.resource, name=None)\n",
      "  1854321978080: TensorSpec(shape=(), dtype=tf.resource, name=None)\n",
      "  1854321978256: TensorSpec(shape=(), dtype=tf.resource, name=None)\n",
      "  1854321978432: TensorSpec(shape=(), dtype=tf.resource, name=None)\n",
      "  1854321980016: TensorSpec(shape=(), dtype=tf.resource, name=None)\n",
      "  1854321980368: TensorSpec(shape=(), dtype=tf.resource, name=None)\n",
      "  1854321979664: TensorSpec(shape=(), dtype=tf.resource, name=None)\n",
      "  1854321980720: TensorSpec(shape=(), dtype=tf.resource, name=None)\n",
      "  1854321980896: TensorSpec(shape=(), dtype=tf.resource, name=None)\n",
      "  1854321981072: TensorSpec(shape=(), dtype=tf.resource, name=None)\n",
      "  1854321981248: TensorSpec(shape=(), dtype=tf.resource, name=None)\n",
      "  1854321981424: TensorSpec(shape=(), dtype=tf.resource, name=None)\n",
      "  1854321981600: TensorSpec(shape=(), dtype=tf.resource, name=None)\n",
      "  1854321981952: TensorSpec(shape=(), dtype=tf.resource, name=None)\n",
      "  1854321982128: TensorSpec(shape=(), dtype=tf.resource, name=None)\n",
      "  1854321982480: TensorSpec(shape=(), dtype=tf.resource, name=None)\n",
      "  1854321982656: TensorSpec(shape=(), dtype=tf.resource, name=None)\n",
      "  1854321982832: TensorSpec(shape=(), dtype=tf.resource, name=None)\n",
      "  1854321983008: TensorSpec(shape=(), dtype=tf.resource, name=None)\n"
     ]
    }
   ],
   "source": [
    "model.export('best_model.pth')"
   ]
  }
 ],
 "metadata": {
  "colab": {
   "provenance": []
  },
  "kernelspec": {
   "display_name": "Python 3 (ipykernel)",
   "language": "python",
   "name": "python3"
  },
  "language_info": {
   "codemirror_mode": {
    "name": "ipython",
    "version": 3
   },
   "file_extension": ".py",
   "mimetype": "text/x-python",
   "name": "python",
   "nbconvert_exporter": "python",
   "pygments_lexer": "ipython3",
   "version": "3.11.7"
  }
 },
 "nbformat": 4,
 "nbformat_minor": 4
}
