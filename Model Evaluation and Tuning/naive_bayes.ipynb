{
  "cells": [
    {
      "cell_type": "code",
      "execution_count": 1,
      "id": "057979bf",
      "metadata": {
        "id": "057979bf"
      },
      "outputs": [],
      "source": [
        "from sklearn.model_selection import train_test_split\n",
        "import pandas as pd\n",
        "data = pd.read_csv(\"Tokenized_HateSpeechDetection.csv\")\n",
        "X=data['Tokens']\n",
        "y=data['Label']\n",
        "X_train, X_test, y_train, y_test = train_test_split(X, y, test_size=0.2, random_state=42)"
      ]
    },
    {
      "cell_type": "code",
      "execution_count": 2,
      "id": "442852c8",
      "metadata": {
        "colab": {
          "base_uri": "https://localhost:8080/"
        },
        "id": "442852c8",
        "outputId": "cbd68e33-36e6-404d-fbe2-ac1de7501146"
      },
      "outputs": [
        {
          "output_type": "stream",
          "name": "stderr",
          "text": [
            "WARNING:gensim.models.word2vec:Each 'sentences' item should be a list of words (usually unicode strings). First item here is instead plain <class 'str'>.\n",
            "WARNING:gensim.models.word2vec:Each 'sentences' item should be a list of words (usually unicode strings). First item here is instead plain <class 'str'>.\n"
          ]
        }
      ],
      "source": [
        "from gensim.models import Word2Vec\n",
        "import numpy as np\n",
        "def word2vec_embedding_sg(texts):\n",
        "    model = Word2Vec(sentences=X_train, vector_size=200, window=6, min_count=1, workers=4,sg=1)\n",
        "    word_vectors = model.wv\n",
        "    #print(word_vectors)\n",
        "\n",
        "    def get_word2vec_embeddings(text, word_vectors):\n",
        "        embeddings = [word_vectors[word] for word in text if word in word_vectors]\n",
        "        if embeddings:\n",
        "            return np.mean(embeddings, axis=0)\n",
        "        else:\n",
        "            return np.zeros(200)\n",
        "\n",
        "    embeddings = np.array([get_word2vec_embeddings(text, word_vectors) for text in texts])\n",
        "    return embeddings\n",
        "X_train_w2v=word2vec_embedding_sg(X_train)\n",
        "X_test_w2v=word2vec_embedding_sg(X_test)"
      ]
    },
    {
      "cell_type": "markdown",
      "id": "e86a6c5a",
      "metadata": {
        "id": "e86a6c5a"
      },
      "source": [
        "# Naive Bayes Model:\n",
        "Naive Bayes models typically have fewer hyperparameters to tune compared to other models like SVM or XGBoost. However, it is still beneficial to tune these hyperparameters to achieve optimal performance."
      ]
    },
    {
      "cell_type": "code",
      "execution_count": 12,
      "id": "00c9282b",
      "metadata": {
        "colab": {
          "base_uri": "https://localhost:8080/"
        },
        "id": "00c9282b",
        "outputId": "c3ccd9ab-0428-44d5-eb0d-474f388aac73"
      },
      "outputs": [
        {
          "output_type": "stream",
          "name": "stdout",
          "text": [
            "Gaussian Naive Bayes\n",
            "Precision: 0.5964783929134537\n",
            "Recall: 0.001402524544179523\n",
            "Accuracy: 0.6948863636363636\n",
            "ROC-AUC Score: 0.6200030060067009\n",
            "F1 Score: 0.0028011204481792717\n"
          ]
        }
      ],
      "source": [
        "from sklearn.naive_bayes import GaussianNB\n",
        "from sklearn.metrics import precision_score, recall_score, f1_score, accuracy_score, roc_auc_score, confusion_matrix, precision_recall_curve, auc\n",
        "# Train the model\n",
        "gnb_clf = GaussianNB()\n",
        "gnb_clf.fit(X_train_w2v, y_train)\n",
        "\n",
        "# Make predictions\n",
        "y_pred = gnb_clf.predict(X_test_w2v)\n",
        "\n",
        "# Evaluate the classifier\n",
        "print(\"Gaussian Naive Bayes\")\n",
        "# Precision\n",
        "precision= precision_score(y_test, y_pred)\n",
        "print(\"Precision:\", precision)\n",
        "\n",
        "# Recall\n",
        "recall = recall_score(y_test, y_pred)\n",
        "print(\"Recall:\", recall)\n",
        "\n",
        "\n",
        "# Accuracy\n",
        "accuracy = accuracy_score(y_test, y_pred)\n",
        "print(\"Accuracy:\", accuracy)\n",
        "\n",
        "# ROC-AUC\n",
        "roc_auc = roc_auc_score(y_test, y_pred)\n",
        "print(\"ROC-AUC Score:\", roc_auc)\n",
        "\n",
        "#f1-score\n",
        "f1 = f1_score(y_test, y_pred)\n",
        "print(\"F1 Score:\", f1)\n",
        "\n"
      ]
    },
    {
      "cell_type": "code",
      "execution_count": 13,
      "id": "2b939fb6",
      "metadata": {
        "colab": {
          "base_uri": "https://localhost:8080/"
        },
        "id": "2b939fb6",
        "outputId": "27720fe4-8160-4b21-ee2a-a2d61ed0f0e3"
      },
      "outputs": [
        {
          "output_type": "stream",
          "name": "stdout",
          "text": [
            "Best Gaussian Naive Bayes using Grid Search\n",
            "Precision: 0.6986037234042554\n",
            "Recall: 0.5948863636363636\n",
            "Accuracy: 0.7948863636363637\n",
            "ROC-AUC Score: 0.6154537264538263\n",
            "f1: 0.6568863636363635\n"
          ]
        }
      ],
      "source": [
        "from sklearn.model_selection import GridSearchCV\n",
        "from sklearn.naive_bayes import GaussianNB\n",
        "\n",
        "# Define the hyperparameter grid\n",
        "param_grid = {\n",
        "    'var_smoothing': [1e-9, 1e-8, 1e-7, 1e-6, 1e-5]\n",
        "}\n",
        "\n",
        "# Initialize GridSearchCV\n",
        "grid_search = GridSearchCV(GaussianNB(), param_grid, cv=5, scoring='accuracy')\n",
        "\n",
        "# Fit the model\n",
        "grid_search.fit(X_train_w2v, y_train)\n",
        "\n",
        "# Get the best model\n",
        "best_model = grid_search.best_estimator_\n",
        "\n",
        "# Make predictions\n",
        "y_pred = best_model.predict(X_test_w2v)\n",
        "\n",
        "# Evaluate the classifier\n",
        "print(\"Best Gaussian Naive Bayes using Grid Search\")\n",
        "print(\"Precision:\",precision_score(y_test, y_pred))\n",
        "print(\"Recall:\", recall_score(y_test, y_pred))\n",
        "print(\"Accuracy:\", accuracy_score(y_test, y_pred))\n",
        "print(\"ROC-AUC Score:\", roc_auc_score(y_test, y_pred))\n",
        "print(\"f1:\", f1_score(y_test, y_pred))\n"
      ]
    }
  ],
  "metadata": {
    "kernelspec": {
      "display_name": "Python 3 (ipykernel)",
      "language": "python",
      "name": "python3"
    },
    "language_info": {
      "codemirror_mode": {
        "name": "ipython",
        "version": 3
      },
      "file_extension": ".py",
      "mimetype": "text/x-python",
      "name": "python",
      "nbconvert_exporter": "python",
      "pygments_lexer": "ipython3",
      "version": "3.11.3"
    },
    "colab": {
      "provenance": []
    }
  },
  "nbformat": 4,
  "nbformat_minor": 5
}